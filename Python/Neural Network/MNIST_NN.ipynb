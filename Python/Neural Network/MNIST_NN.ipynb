{
 "cells": [
  {
   "cell_type": "markdown",
   "metadata": {
    "id": "dBp2sxrJ9XBT"
   },
   "source": [
    "# Deep learning Neural Networks\n",
    "\n",
    "Today we will use neural networks models to train and predict models that of in the MNIST dataset. This dataset will be of the handwritten digits and more information can be found [here](https://en.wikipedia.org/wiki/MNIST_database).\n",
    "___\n",
    "\n",
    "Before we get started we need a review of Neural Networks.\n",
    "\n",
    "For a Neural network, we have the starting point for all data to be processed through. This is called a Neuron. In a network, we have hundreds of these and each do one task as to process the input data and calculate the output with the process of multiplication, usually matrix multiplication. \n",
    "\n",
    "For a single neuron, we have the simple formula of:\n",
    "\n",
    "$$ \\text{w} * \\text{x} + \\text{b} = \\text{z} $$\n",
    "Where:\n",
    "- w: is the weights on the network. Each neuron has a random weight that is processed through with the data. \n",
    "- x: the set of input data. This will be a single or matrix value that will be processed.\n",
    "- b: this value is our bias\n",
    "\n",
    "As an output we get the term of z, which is just the overall sum or calculation of the input values. \n",
    "\n",
    "This single z term value is pass through an activation function. Various Activation functions are of:\n",
    "<li> Percetron </li>\n",
    "<li> Sigmoid </li>\n",
    "<li> Tanh </li>\n",
    "<li> ReLU </li>\n",
    "\n",
    "This is the simple calculation for a singe neuron in out network. In a neural network, we have hundreds of these in many layers as presented below:\n",
    "\n",
    "![](https://miro.medium.com/max/700/1*ZB6H4HuF58VcMOWbdpcRxQ.png)\n",
    "\n",
    "___\n",
    "The network here has three main parts to it of: \n",
    "\n",
    "<li> Input Layers </li>\n",
    "<li> Hidden Layers</li>\n",
    "<li> Output Layers </li>\n",
    "\n",
    "These three layers are to build the network. Building a network can have many layers of the hidden layers through processing the values to get an output. From understanding the model over time, the more deep the model is or the more layers the model has, the more understanding the model gets to having higher accuracy rate.\n",
    "\n",
    "Each layer that we add on in the model adds a component to what we are doing and the more deep that we have it the better for building a better model. \n",
    "___\n",
    "In order to build a model that can predict and improve over time, we have to train it and training the model means that we must adjust the values in our model over time to correct these inaccuracies. This is where we use Cost and Lost functions are used to get the value of error that is produced. From this, we overall use gradient descent to find the correct optimal values. \n",
    "\n",
    "From learning the correct error and direction that our data is producing at, we can then use back-propagation to go back through our model to adjust the weights and bias values in the network to make a better model. \n",
    "___\n",
    "when we approach gradient descent we must understand 3 main components to this:\n",
    "\n",
    "<li> Learning Rate: The step size the gradient descent will take during each process </li>\n",
    "<li> Batch size: Batches allow us to use stochastic gradient descent. Batch size plays an important factor in our model as how fast it can train. </li>\n",
    "<li> Second order behavior: The ability to change and adjust our learning rate as we train our model. The learning rate will start to get to small sizes when we get to a point where we get to our minimum point in our gradient.  </li>\n",
    "\n",
    "____\n",
    "\n",
    "## MNIST Dataset\n",
    "\n",
    "This is a popular Machine Learning dataset of a set of images that we can build models to predict an input of numbers. This contains hand written values from 0 to 9 that is represented in an array of values between 0 and 1. Each one of these values are a value of a grayscale. \n",
    "\n",
    "This dataset is build with 55,000 to 60,000 images of training and 10,000 more images for testing the model afterwards. \n",
    "\n",
    "Below, we import the MNIST dataset and we start to work and build a model to predict the values in our dataset. "
   ]
  },
  {
   "cell_type": "code",
   "execution_count": null,
   "metadata": {
    "id": "cUip05gg6KOR"
   },
   "outputs": [],
   "source": [
    "#import tensflow packages \n",
    "import tensorflow as tf\n",
    "import matplotlib.pyplot as plt\n",
    "import numpy as np\n",
    "%matplotlib inline"
   ]
  },
  {
   "cell_type": "code",
   "execution_count": null,
   "metadata": {
    "id": "Y1LDeklp6TmR"
   },
   "outputs": [],
   "source": [
    "#import and split train our data\n",
    "(train_images, train_labels), (test_images, test_labels) = tf.keras.datasets.mnist.load_data()"
   ]
  },
  {
   "cell_type": "code",
   "execution_count": null,
   "metadata": {
    "colab": {
     "base_uri": "https://localhost:8080/",
     "height": 282
    },
    "id": "HciN4u4R7Pwm",
    "outputId": "e7c52599-2dba-421b-961f-47293d1aaae0"
   },
   "outputs": [
    {
     "data": {
      "text/plain": [
       "<matplotlib.image.AxesImage at 0x7efe8c67ae48>"
      ]
     },
     "execution_count": 56,
     "metadata": {
      "tags": []
     },
     "output_type": "execute_result"
    },
    {
     "data": {
      "image/png": "[encoded data removed]",
      "text/plain": [
       "<Figure size 432x288 with 1 Axes>"
      ]
     },
     "metadata": {
      "needs_background": "light",
      "tags": []
     },
     "output_type": "display_data"
    }
   ],
   "source": [
    "#we want to show the first image of grayscale\n",
    "plt.imshow(train_images[0], cmap = \"gist_gray\")"
   ]
  },
  {
   "cell_type": "code",
   "execution_count": null,
   "metadata": {
    "colab": {
     "base_uri": "https://localhost:8080/"
    },
    "id": "Ht6r2ujocH3p",
    "outputId": "cbb12f6d-5e8c-4fa0-fe26-380e32bc2a46"
   },
   "outputs": [
    {
     "data": {
      "text/plain": [
       "((60000, 28, 28), (10000, 28, 28))"
      ]
     },
     "execution_count": 73,
     "metadata": {
      "tags": []
     },
     "output_type": "execute_result"
    }
   ],
   "source": [
    "train_images.shape, test_images.shape"
   ]
  },
  {
   "cell_type": "markdown",
   "metadata": {
    "id": "UU6esEI1c2I3"
   },
   "source": [
    "___\n",
    "\n",
    "\n",
    "Above, we see the shape of the train and test datasets. See can see that overall we have 70,000 images all together which a set of arrays in the shape of 28 x 28 size. The data loaded here is color scale of 0 to 255. We will need to standardize these values to values between 0 and 1. We will divide the data in each dataset into 255 proportions of the original data. \n",
    "___"
   ]
  },
  {
   "cell_type": "code",
   "execution_count": null,
   "metadata": {
    "id": "HYhI_Wev7Ta4"
   },
   "outputs": [],
   "source": [
    "train_images = train_images / 255.0\n",
    "\n",
    "test_images = test_images / 255.0"
   ]
  },
  {
   "cell_type": "markdown",
   "metadata": {
    "id": "ja3AQWkNdmLY"
   },
   "source": [
    "### Setting up layers \n",
    "\n",
    "The basics of build a model is working with layers. Below, we setup our layers that is realted to our data. For our setup we use layers.Dense to build layer neurons with the activation function of RuLU, although any activation function can work. At the end, we build the final layer that is for each output value that is possible between 0 - 9."
   ]
  },
  {
   "cell_type": "code",
   "execution_count": null,
   "metadata": {
    "id": "m5wCb8hH7WQT"
   },
   "outputs": [],
   "source": [
    "model = tf.keras.Sequential([\n",
    "    tf.keras.layers.Flatten(input_shape=(28, 28)),\n",
    "    tf.keras.layers.Dense(100, activation='relu'),\n",
    "    tf.keras.layers.Dense(50, activation='relu'),\n",
    "    tf.keras.layers.Dense(20, activation='relu'),\n",
    "    tf.keras.layers.Dense(10)\n",
    "])"
   ]
  },
  {
   "cell_type": "markdown",
   "metadata": {
    "id": "61pxvSqmf1EK"
   },
   "source": [
    "___\n",
    "\n",
    "Below, we complie there is a few more things to setup such as the loss function and the optimizer. \n",
    "\n",
    "Below, we use stochastic gradient descent as our optimizer and cross entropy as our lost. \n",
    "\n",
    "We will also fit our model in training below, we will train the model 4 times overall to gain high accuracy but not overfit our model for images not seen in the test dataset. \n",
    "\n",
    "We will feed the training process with our train_images and train_labels.\n",
    "___"
   ]
  },
  {
   "cell_type": "code",
   "execution_count": null,
   "metadata": {
    "id": "5uq4QXwU7ayG"
   },
   "outputs": [],
   "source": [
    "model.compile(optimizer=\"SGD\",\n",
    "              loss=tf.keras.losses.SparseCategoricalCrossentropy(from_logits=True),\n",
    "              metrics=['accuracy'])"
   ]
  },
  {
   "cell_type": "code",
   "execution_count": null,
   "metadata": {
    "colab": {
     "base_uri": "https://localhost:8080/"
    },
    "id": "uHI7VMqF7r58",
    "outputId": "baf12da0-f5e7-4cc1-8e91-c9fa11058bd9"
   },
   "outputs": [
    {
     "name": "stdout",
     "output_type": "stream",
     "text": [
      "Epoch 1/4\n",
      "1875/1875 [==============================] - 3s 2ms/step - loss: 0.7865 - accuracy: 0.7671\n",
      "Epoch 2/4\n",
      "1875/1875 [==============================] - 3s 2ms/step - loss: 0.2833 - accuracy: 0.9187\n",
      "Epoch 3/4\n",
      "1875/1875 [==============================] - 3s 2ms/step - loss: 0.2134 - accuracy: 0.9391\n",
      "Epoch 4/4\n",
      "1875/1875 [==============================] - 3s 2ms/step - loss: 0.1748 - accuracy: 0.9499\n"
     ]
    },
    {
     "data": {
      "text/plain": [
       "<tensorflow.python.keras.callbacks.History at 0x7efe89ed8cc0>"
      ]
     },
     "execution_count": 89,
     "metadata": {
      "tags": []
     },
     "output_type": "execute_result"
    }
   ],
   "source": [
    "model.fit(train_images, train_labels, epochs=4)"
   ]
  },
  {
   "cell_type": "markdown",
   "metadata": {
    "id": "VR7Q4vtni9-8"
   },
   "source": [
    "____\n",
    "Above, we can see the product of our training. We ran our model 4 epochs times to get to a rough 95% accuracy of our training dataset. This is a good value for our training to avoid overfitting in our test dataset. \n",
    "\n",
    "Below, we evaluate the accuracy with the test data. As a result, we get also a 95% accuracy for our data. Rougly more than our training data result. This would mean that our model does really well with unseen data in our test dataset.\n",
    "___"
   ]
  },
  {
   "cell_type": "code",
   "execution_count": null,
   "metadata": {
    "colab": {
     "base_uri": "https://localhost:8080/"
    },
    "id": "QXK1rMEC7taD",
    "outputId": "c101b758-2a7a-4b56-85b3-1fd389087128"
   },
   "outputs": [
    {
     "name": "stdout",
     "output_type": "stream",
     "text": [
      "313/313 - 0s - loss: 0.1633 - accuracy: 0.9518\n",
      "\n",
      "Test accuracy: 0.9517999887466431\n"
     ]
    }
   ],
   "source": [
    "test_loss, test_acc = model.evaluate(test_images,  test_labels, verbose=2)\n",
    "\n",
    "print('\\nTest accuracy:', test_acc)"
   ]
  },
  {
   "cell_type": "markdown",
   "metadata": {
    "id": "zdfDUaKZk7Lo"
   },
   "source": [
    "___\n",
    "### Predictions\n",
    "\n",
    "Our model produces probability values what is between 0 and 1. We would like to make a prodiction of every test dataset images and produce a prediction. Below we convert all probability to a since value prediction and create a output for each image.\n",
    "\n",
    "\n",
    "___"
   ]
  },
  {
   "cell_type": "code",
   "execution_count": null,
   "metadata": {
    "id": "v0OBSnDeTwar"
   },
   "outputs": [],
   "source": [
    "probability_model = tf.keras.Sequential([model, \n",
    "                                         tf.keras.layers.Softmax()])\n",
    "predictions = probability_model.predict(test_images)"
   ]
  },
  {
   "cell_type": "code",
   "execution_count": null,
   "metadata": {
    "id": "8Qfthc4lUFBa"
   },
   "outputs": [],
   "source": [
    "def predict(image_value):\n",
    "  print(\"Predicted image value: \", np.argmax(predictions[image_value]))\n",
    "  print(\"Image correct label: \", test_labels[image_value])\n",
    "  plt.imshow(test_images[image_value], cmap = \"gist_gray\")\n",
    "  "
   ]
  },
  {
   "cell_type": "code",
   "execution_count": null,
   "metadata": {
    "colab": {
     "base_uri": "https://localhost:8080/",
     "height": 299
    },
    "id": "aDXvsDYYUGTz",
    "outputId": "f3cf801f-7f69-4b47-9798-0a459d90ceb7"
   },
   "outputs": [
    {
     "name": "stdout",
     "output_type": "stream",
     "text": [
      "Predicted image value:  3\n",
      "Image correct label:  3\n"
     ]
    },
    {
     "data": {
      "image/png": "[encoded data removed]",
      "text/plain": [
       "<Figure size 432x288 with 1 Axes>"
      ]
     },
     "metadata": {
      "needs_background": "light",
      "tags": []
     },
     "output_type": "display_data"
    }
   ],
   "source": [
    "predict(np.random.randint(0,10000))"
   ]
  },
  {
   "cell_type": "code",
   "execution_count": null,
   "metadata": {
    "colab": {
     "base_uri": "https://localhost:8080/",
     "height": 299
    },
    "id": "6riuM7buUGmb",
    "outputId": "ef673b63-38e2-4738-a836-977fd6926462"
   },
   "outputs": [
    {
     "name": "stdout",
     "output_type": "stream",
     "text": [
      "Predicted image value:  2\n",
      "Image correct label:  2\n"
     ]
    },
    {
     "data": {
      "image/png": "[encoded data removed]",
      "text/plain": [
       "<Figure size 432x288 with 1 Axes>"
      ]
     },
     "metadata": {
      "needs_background": "light",
      "tags": []
     },
     "output_type": "display_data"
    }
   ],
   "source": [
    "predict(np.random.randint(0,10000))"
   ]
  },
  {
   "cell_type": "code",
   "execution_count": null,
   "metadata": {
    "colab": {
     "base_uri": "https://localhost:8080/",
     "height": 299
    },
    "id": "S2WYc3maUIL6",
    "outputId": "e0b726b0-08ed-453c-d461-2399e5506e83"
   },
   "outputs": [
    {
     "name": "stdout",
     "output_type": "stream",
     "text": [
      "Predicted image value:  8\n",
      "Image correct label:  8\n"
     ]
    },
    {
     "data": {
      "image/png": "[encoded data removed]",
      "text/plain": [
       "<Figure size 432x288 with 1 Axes>"
      ]
     },
     "metadata": {
      "needs_background": "light",
      "tags": []
     },
     "output_type": "display_data"
    }
   ],
   "source": [
    "predict(np.random.randint(0,10000))"
   ]
  },
  {
   "cell_type": "markdown",
   "metadata": {
    "id": "06EYB0EgmpF3"
   },
   "source": [
    "## Conclusion \n",
    "\n",
    "Today, we worked the tensorflow packges to build a neural network. The use of this package allowed us to build a quick and fast model to train and test our data to get high accurate values as output. With the ability to build our own network with layers, optimizer, and loss it produces a really good model. \n",
    "\n",
    "When compared to scratch, it does the same approch and task but much faster as we have more control over our data and inputs. \n",
    "\n",
    "In the future, I look forward to work with convolutional neural network for this model."
   ]
  }
 ],
 "metadata": {
  "colab": {
   "name": "MNIST NN",
   "provenance": []
  },
  "kernelspec": {
   "display_name": "Python 3",
   "language": "python",
   "name": "python3"
  },
  "language_info": {
   "codemirror_mode": {
    "name": "ipython",
    "version": 3
   },
   "file_extension": ".py",
   "mimetype": "text/x-python",
   "name": "python",
   "nbconvert_exporter": "python",
   "pygments_lexer": "ipython3",
   "version": "3.7.4"
  }
 },
 "nbformat": 4,
 "nbformat_minor": 4
}
