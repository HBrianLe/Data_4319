{
 "cells": [
  {
   "cell_type": "markdown",
   "metadata": {},
   "source": [
    "# Regression Models\n",
    "\n",
    "\n",
    "In this notebook, we will describe regression models in Python (V.3.7). We will start with **Linear regression**. Linear regression makes prediction by simply computing a weighted sum of the input features, plus a constant called a *bias*, otherwise known as the intercept. Predictions for this model are made using the vector equation which is defined by:\n",
    "\n",
    "$$\n",
    "\\hat{y} = \\theta_{0} + \\theta_{1}x_{1} + \\dots + \\theta_{n}x_{n} \\;\\;\\;\\;\\;\\;\\; \\text {for } i=1, \\dots , n \n",
    "$$\n",
    "\n",
    "In this equation we have variables that of:\n",
    "- $\\hat{y}$ is the predicted value of given model.\n",
    "- $n$ is the number of features that go into the model.\n",
    "- $x_i$ is the $i$-th feature that the model is using.\n",
    "- $\\theta_{j}$ is the $j$-th model parameter, where $\\theta_{0}$ is the bias term and $\\theta_{1}, \\dots, \\theta_{n}$ are the feature weights.\n",
    "\n",
    "If we allow for the function for $i = 1, \\dots, n$ we can obtain these :\n",
    "\n",
    "$$\n",
    "y_1 = \\beta_0 + \\beta_1x_1 + \\epsilon_1 \\\\\n",
    "y_2 = \\beta_0 + \\beta_1x_2 + \\epsilon_2 \\\\\n",
    "\\vdots\\\\\n",
    "y_n = \\beta_0 + \\beta_1x_n + \\epsilon_n \\\\\n",
    "$$\n",
    "\n",
    "The above equation can also be written:\n",
    "$$\\hat{y} = h_{\\theta}({x}) = \\theta \\cdot x\n",
    "$$\n",
    "\n",
    "This is our predictor function, but how do we choose the weights and bias? We will coose the weights and bias by minimizing the *Mean Squared Error* (MSE):\n",
    "\n",
    "$$\n",
    "\\text{MSE}(x,h_{\\theta}) = \\frac{1}{m}\\sum_{i = 1}^{m}({\\theta^{T}x^{(i)} - y^{(i)}})^2\n",
    "$$\n",
    "\n",
    "Here $X$ is the training set of feature vectors.\n",
    "\n",
    "## Normal Equation\n",
    "For linear regression, there exist a closed form solution of the normal equation that minimizes the MSE. This eqauation is of the Normal Equation:\n",
    "\n",
    "$$\n",
    "\\hat{\\theta} = (X^{T}X)^{-1}X^{T}y\n",
    "$$\n",
    "\n",
    "In this equation we have variables that of:\n",
    "- $\\hat{\\theta}$ is the value of $\\theta$ that minimizes the cost of the fucntion. The hypothesis perameters that best defines the given data. \n",
    "- $X$ Input feature value of each instance.\n",
    "- $Y$ Output value of each instance.\n",
    "___\n",
    "\n",
    "Below, we generate random data that is representive of a linear format to apply the normal function onto."
   ]
  },
  {
   "cell_type": "code",
   "execution_count": 1,
   "metadata": {},
   "outputs": [],
   "source": [
    "#import python packages \n",
    "import numpy as np\n",
    "import matplotlib.pyplot as plt\n",
    "plt.style.use('fivethirtyeight')\n"
   ]
  },
  {
   "cell_type": "code",
   "execution_count": 2,
   "metadata": {},
   "outputs": [],
   "source": [
    "#create and X an y fucntion. The X will be random numbers while y will be values that are a funciton of the values in X\n",
    "X = 2*np.random.rand(100,1)\n",
    "y = 4 + 3*X + np.random.rand(100,1)"
   ]
  },
  {
   "cell_type": "code",
   "execution_count": 6,
   "metadata": {},
   "outputs": [
    {
     "data": {
      "text/plain": [
       "<matplotlib.collections.PathCollection at 0x27e245e6448>"
      ]
     },
     "execution_count": 6,
     "metadata": {},
     "output_type": "execute_result"
    },
    {
     "data": {
      "image/png": "[encoded data removed]",
      "text/plain": [
       "<Figure size 432x288 with 1 Axes>"
      ]
     },
     "metadata": {},
     "output_type": "display_data"
    }
   ],
   "source": [
    "#plot the artifical data of the X and Y\n",
    "plt.scatter(X,y, marker= \"*\")"
   ]
  },
  {
   "cell_type": "markdown",
   "metadata": {},
   "source": [
    "___\n",
    "In the artifical data of X and y, we can see a linear shape of the data is formed. This is a good start for our ability to use the normal fucntion to create a linear line for the data. \n",
    "\n",
    "Below, we apply the normal fucnction using matrix dot product of the X and y data. \n",
    "___"
   ]
  },
  {
   "cell_type": "code",
   "execution_count": 7,
   "metadata": {},
   "outputs": [],
   "source": [
    "# solve the normal equation with matrix multiplication and dot. \n",
    "\n",
    "X_b = np.c_[np.ones((100,1)),X]\n",
    "theta_best = np.linalg.inv(X_b.T @ X_b) @ X_b.T @ y"
   ]
  },
  {
   "cell_type": "code",
   "execution_count": 8,
   "metadata": {},
   "outputs": [],
   "source": [
    "#Make Predictor function using the created values after the normal equation is formed \n",
    "def y_hat(theta, x):\n",
    "    return x*theta[1] + theta[0]"
   ]
  },
  {
   "cell_type": "code",
   "execution_count": 9,
   "metadata": {},
   "outputs": [],
   "source": [
    "#apply the funciton for all te points in the data to get a regression value \n",
    "Y_predict = [y_hat(theta_best, x) for x in X]"
   ]
  },
  {
   "cell_type": "code",
   "execution_count": 10,
   "metadata": {},
   "outputs": [
    {
     "data": {
      "text/plain": [
       "[<matplotlib.lines.Line2D at 0x27e24a92608>]"
      ]
     },
     "execution_count": 10,
     "metadata": {},
     "output_type": "execute_result"
    },
    {
     "data": {
      "image/png": "[encoded data removed]",
      "text/plain": [
       "<Figure size 432x288 with 1 Axes>"
      ]
     },
     "metadata": {},
     "output_type": "display_data"
    }
   ],
   "source": [
    "plt.scatter(X,y, marker= \"*\")\n",
    "plt.plot(X,Y_predict, color = \"C1\", linewidth = 1)"
   ]
  },
  {
   "cell_type": "markdown",
   "metadata": {},
   "source": [
    "___\n",
    "\n",
    "# Using SciKit learn\n",
    "\n",
    "Using Scikit learn makes linear regression model predictor easier than using the normal equations. Scikit Learn(Version 0.23.2) is a machine leanring library that is used for various tools such as classification, regression, and clustering. Various tools such as Support Vector Machines, Random forest, K-Means and Linear Regression. Today, we can use the linear model import with the Linear Regression model to create the same output that is seen before. \n",
    "___"
   ]
  },
  {
   "cell_type": "code",
   "execution_count": 9,
   "metadata": {},
   "outputs": [],
   "source": [
    "#Import SKlearn package for linear regression \n",
    "from sklearn.linear_model import LinearRegression"
   ]
  },
  {
   "cell_type": "code",
   "execution_count": 12,
   "metadata": {},
   "outputs": [
    {
     "data": {
      "text/plain": [
       "LinearRegression(copy_X=True, fit_intercept=True, n_jobs=None, normalize=False)"
      ]
     },
     "execution_count": 12,
     "metadata": {},
     "output_type": "execute_result"
    }
   ],
   "source": [
    "#Create a linear funciton that we can fit and predit our models off of\n",
    "lin_reg = LinearRegression()\n",
    "\n",
    "lin_reg.fit(X, y)"
   ]
  },
  {
   "cell_type": "code",
   "execution_count": 13,
   "metadata": {},
   "outputs": [
    {
     "data": {
      "text/plain": [
       "array([4.57720144])"
      ]
     },
     "execution_count": 13,
     "metadata": {},
     "output_type": "execute_result"
    }
   ],
   "source": [
    "lin_reg.intercept_"
   ]
  },
  {
   "cell_type": "code",
   "execution_count": 14,
   "metadata": {},
   "outputs": [
    {
     "data": {
      "text/plain": [
       "array([[2.95858517]])"
      ]
     },
     "execution_count": 14,
     "metadata": {},
     "output_type": "execute_result"
    }
   ],
   "source": [
    "lin_reg.coef_"
   ]
  },
  {
   "cell_type": "code",
   "execution_count": 15,
   "metadata": {},
   "outputs": [
    {
     "data": {
      "text/plain": [
       "[<matplotlib.lines.Line2D at 0x27e352d78c8>]"
      ]
     },
     "execution_count": 15,
     "metadata": {},
     "output_type": "execute_result"
    },
    {
     "data": {
      "image/png": "[encoded data removed]",
      "text/plain": [
       "<Figure size 432x288 with 1 Axes>"
      ]
     },
     "metadata": {},
     "output_type": "display_data"
    }
   ],
   "source": [
    "plt.scatter(X,y, marker = \"+\")\n",
    "plt.plot(X, [x * lin_reg.coef_[0] + lin_reg.intercept_[0] for x in X], color = 'C1', linewidth = 1)"
   ]
  },
  {
   "cell_type": "markdown",
   "metadata": {},
   "source": [
    "___\n",
    "Above we see a linear regression line that is similar to the nornmal equation. This is expected as we are finding the regression of the data. \n",
    "\n",
    "Below, we can apply both regression lines into one plot to see the diffrence. And we do not see any change in the regression line between both methods of attempting this linear regression model. \n",
    "___"
   ]
  },
  {
   "cell_type": "code",
   "execution_count": 16,
   "metadata": {},
   "outputs": [
    {
     "data": {
      "text/plain": [
       "[<matplotlib.lines.Line2D at 0x27e353bcb48>]"
      ]
     },
     "execution_count": 16,
     "metadata": {},
     "output_type": "execute_result"
    },
    {
     "data": {
      "image/png": "[encoded data removed]",
      "text/plain": [
       "<Figure size 432x288 with 1 Axes>"
      ]
     },
     "metadata": {},
     "output_type": "display_data"
    }
   ],
   "source": [
    "plt.scatter(X,y, marker = \"+\")\n",
    "plt.plot(X, [x * lin_reg.coef_[0] + lin_reg.intercept_[0] for x in X], color = 'C3', linewidth = 4)\n",
    "plt.plot(X,Y_predict, color = \"C2\", linewidth = 1)"
   ]
  },
  {
   "cell_type": "markdown",
   "metadata": {},
   "source": [
    "## Solving Linear Regression using Gradient descent \n",
    "\n",
    "Gradient descent is a optimization algorthim that is often used to optomize the cost function. We get this optimization with the use of derivatives to get the minimum or the zero. To learn more of how to use gradient descent and the cost function, [here](https://github.com/HBrianLe/Data_4319/blob/master/Gradient%20Descent/Gradient%20Descent.ipynb) at a notebook that was build in Julia for Gradient Descent. \n",
    "\n",
    "### Batch Gradeint Descent\n",
    "In batch gradeint descent, the partial derivative is found for each of the data point that is within the X variable. This is achieved by the finding the partial derivative of this cost funciton:\n",
    "\n",
    "$$\n",
    "\\frac{\\partial}{\\partial \\theta_j} \\text{MES}(\\theta) = \\frac{2}{m} \\sum_{i = 1}^m (\\theta^Tx^{(i)}- y^{(i)}) x_j^{(i)}\n",
    "$$\n",
    "\n",
    "The above funciton definds the derivative for each point individually. The funciton below can be used to defind the partical for all the points at once. The Gradient Vector of $\\nabla_\\theta\\text{MSE}(\\theta)$ can be used for all the partial derivatives for all the data points at once. The function of the gradient vector is defined as:\n",
    "\n",
    "$$\n",
    "\\nabla_\\theta\\text{MSE}(\\theta) = \n",
    "\\left(\\begin{array}{cc} \n",
    "\\frac{\\partial}{\\partial \\theta_0} \\text{MES}(\\theta)\\\\\n",
    "\\frac{\\partial}{\\partial \\theta_1} \\text{MES}(\\theta)\\\\\n",
    "\\vdots \\\\\n",
    "\\frac{\\partial}{\\partial \\theta_n} \\text{MES}(\\theta)\\\\\n",
    "\\end{array}\\right)\n",
    "=\n",
    "\\frac{2}{m}X^{T}(X\\theta- y)\n",
    "$$\n",
    "\n",
    "We are able to update the gradient using this following function:\n",
    "\n",
    "$$\n",
    "\\theta^{k+1} = \\theta^k - \\eta\\nabla_\\theta\\text{MSE}(\\theta)\n",
    "$$\n",
    "\n",
    "In this equation we have variables that of:\n",
    "- $\\theta$ is the value of updated gradient vector. The use of $\\theta^{k+1}$ is defining the next following update gradient vector.\n",
    "- $\\eta$ is the learning rate of the gradient function.This value is important to understand how it will affect our model. A $\\eta$ that is too low will take too long to get a solution. A $\\eta$ that is too high will take too long to get a solution. \n",
    "\n",
    "\n",
    "Batch Gradient Descent is often slow very slow when it comes to larger datasets and dealing with the size of the matrix that we find the gradient of. But where this method of gradient descent works well is in the size of the features that are used to input for the batch. "
   ]
  },
  {
   "cell_type": "code",
   "execution_count": 17,
   "metadata": {},
   "outputs": [],
   "source": [
    "eta = .005\n",
    "n_iteration = 2000\n",
    "n =100\n",
    "\n",
    "theta_values = []\n",
    "theta = np.random.rand(2,1)\n",
    "theta_values.append(theta)\n",
    "\n",
    "for _ in range(n_iteration):\n",
    "    gradient = 2/n * X_b.T @ (X_b @ (theta)- y)\n",
    "    theta = theta - eta*gradient\n",
    "    if _ % 100 == 0:\n",
    "        theta_values.append(theta)"
   ]
  },
  {
   "cell_type": "code",
   "execution_count": 18,
   "metadata": {},
   "outputs": [
    {
     "data": {
      "text/plain": [
       "21"
      ]
     },
     "execution_count": 18,
     "metadata": {},
     "output_type": "execute_result"
    }
   ],
   "source": [
    "len(theta_values)"
   ]
  },
  {
   "cell_type": "code",
   "execution_count": 19,
   "metadata": {},
   "outputs": [
    {
     "data": {
      "text/plain": [
       "[<matplotlib.lines.Line2D at 0x27e354408c8>]"
      ]
     },
     "execution_count": 19,
     "metadata": {},
     "output_type": "execute_result"
    },
    {
     "data": {
      "image/png": "[encoded data removed]",
      "text/plain": [
       "<Figure size 432x288 with 1 Axes>"
      ]
     },
     "metadata": {},
     "output_type": "display_data"
    }
   ],
   "source": [
    "plt.scatter(X,y, marker = \"*\")\n",
    "plt.plot(X, [x*theta_values[1][1] + theta_values[1][0] for x in X], color = \"C1\", linewidth = 1)\n",
    "plt.plot(X, [x*theta_values[2][1] + theta_values[2][0] for x in X], color = \"C2\", linewidth = 1)\n",
    "plt.plot(X, [x*theta_values[3][1] + theta_values[3][0] for x in X], color = \"C3\", linewidth = 1)\n",
    "plt.plot(X, [x*theta_values[4][1] + theta_values[4][0] for x in X], color = \"C4\", linewidth = 1)\n",
    "plt.plot(X, [x*theta_values[15][1] + theta_values[15][0] for x in X], color = \"white\", linewidth = 1)"
   ]
  },
  {
   "cell_type": "markdown",
   "metadata": {},
   "source": [
    "___\n",
    "Above, we see the gradient model in action. We can see that the **red** line is the intial start of the regression line. After several updates to the gradient descent model, we can see that the lines start to converge onto the data points. At this point we can see that that model has found the linear line that fits the data using gradient descent. The see the **White** line to the the final model to converge our model to the final point.\n",
    "\n",
    "___\n",
    "\n",
    "We can compare all 3 models below and how well they preform at creating the regression line that fits our data. AS we can see, all 3 models converge to the nearly the same positon of regression. There is some offset in eahc model as each can produce their own errors such as rounding or the amount of data used for the final result. "
   ]
  },
  {
   "cell_type": "code",
   "execution_count": 20,
   "metadata": {},
   "outputs": [
    {
     "data": {
      "text/plain": [
       "[<matplotlib.lines.Line2D at 0x27e354a0fc8>]"
      ]
     },
     "execution_count": 20,
     "metadata": {},
     "output_type": "execute_result"
    },
    {
     "data": {
      "image/png": "[encoded data removed]",
      "text/plain": [
       "<Figure size 432x288 with 1 Axes>"
      ]
     },
     "metadata": {},
     "output_type": "display_data"
    }
   ],
   "source": [
    "plt.scatter(X,y, marker = \"*\")\n",
    "plt.plot(X,Y_predict, color = \"C2\", linewidth = 4)\n",
    "plt.plot(X, [x * lin_reg.coef_[0] + lin_reg.intercept_[0] for x in X], color = 'C3', linewidth = 3)\n",
    "plt.plot(X, [x*theta_values[15][1] + theta_values[15][0] for x in X], color = \"C1\", linewidth = 2)"
   ]
  },
  {
   "cell_type": "markdown",
   "metadata": {},
   "source": [
    "___\n",
    "## Polynomical Regression\n",
    "\n",
    "If the data given is not a linear line or shape, we can use diffrent models such as Polynomical regression. We can model outr regression line to a $n^{th}$ degree polynomical. \n",
    "\n",
    " \n",
    "\\begin{bmatrix}\n",
    "1 & 2 & 3\\\\\n",
    "a & b & c\n",
    "\\end{bmatrix}\n"
   ]
  },
  {
   "cell_type": "code",
   "execution_count": 21,
   "metadata": {},
   "outputs": [],
   "source": [
    "m = 100\n",
    "X = 6 * np.random.rand(m,1)-3\n",
    "y = .5 * X**2 + X + 2 + np.random.rand(m,1)"
   ]
  },
  {
   "cell_type": "code",
   "execution_count": 22,
   "metadata": {},
   "outputs": [
    {
     "data": {
      "text/plain": [
       "<matplotlib.collections.PathCollection at 0x27e35507fc8>"
      ]
     },
     "execution_count": 22,
     "metadata": {},
     "output_type": "execute_result"
    },
    {
     "data": {
      "image/png": "[encoded data removed]",
      "text/plain": [
       "<Figure size 432x288 with 1 Axes>"
      ]
     },
     "metadata": {},
     "output_type": "display_data"
    }
   ],
   "source": [
    "plt.scatter(X,y)"
   ]
  },
  {
   "cell_type": "code",
   "execution_count": 23,
   "metadata": {},
   "outputs": [],
   "source": [
    "from sklearn.preprocessing import PolynomialFeatures\n",
    "plot_features = PolynomialFeatures(degree= 2, include_bias= False)\n",
    "\n",
    "\n",
    "#dot fit transform is create the first part of the matrix. Outputs 3 columns \n",
    "X_poly = plot_features.fit_transform(X)"
   ]
  },
  {
   "cell_type": "code",
   "execution_count": 24,
   "metadata": {},
   "outputs": [],
   "source": [
    "lin_reg = LinearRegression()\n",
    "lin_reg.fit(X_poly, y)\n",
    "\n",
    "def poly_predict(x):\n",
    "    return x**2*lin_reg.coef_[0][1] + x*lin_reg.coef_[0][0] + lin_reg.intercept_[0]"
   ]
  },
  {
   "cell_type": "code",
   "execution_count": 25,
   "metadata": {},
   "outputs": [
    {
     "data": {
      "text/plain": [
       "array([1.02781646, 0.49439332])"
      ]
     },
     "execution_count": 25,
     "metadata": {},
     "output_type": "execute_result"
    }
   ],
   "source": [
    "lin_reg.coef_[0]"
   ]
  },
  {
   "cell_type": "code",
   "execution_count": 26,
   "metadata": {},
   "outputs": [
    {
     "data": {
      "text/plain": [
       "2.492296742493645"
      ]
     },
     "execution_count": 26,
     "metadata": {},
     "output_type": "execute_result"
    }
   ],
   "source": [
    "lin_reg.intercept_[0]"
   ]
  },
  {
   "cell_type": "code",
   "execution_count": 27,
   "metadata": {},
   "outputs": [
    {
     "data": {
      "text/plain": [
       "[<matplotlib.lines.Line2D at 0x27e37576cc8>]"
      ]
     },
     "execution_count": 27,
     "metadata": {},
     "output_type": "execute_result"
    },
    {
     "data": {
      "image/png": "[encoded data removed]",
      "text/plain": [
       "<Figure size 432x288 with 1 Axes>"
      ]
     },
     "metadata": {},
     "output_type": "display_data"
    }
   ],
   "source": [
    "plt.scatter(X,y, marker = \"*\")\n",
    "domain = np.linspace(-3.5,3.5,100)\n",
    "plt.plot(domain, poly_predict(domain), color = 'C1')"
   ]
  },
  {
   "cell_type": "code",
   "execution_count": null,
   "metadata": {},
   "outputs": [],
   "source": []
  },
  {
   "cell_type": "markdown",
   "metadata": {},
   "source": [
    "# Ridge Regression and Lasso Regression \n",
    "\n",
    "We have the seen the basic linear regression of using MSE and the Normal Equation of use of just basic linear models. Now we will look at the use of two more methods of regression but with the use of weights adjustments and modifications along with the use of MSE. For linear modeling, we can constraining the weights of the model to produce coefficient estimates are constrained to zero. Using these types of models will allow us the prevention of issues such as overfitting and making models more complex. \n",
    "\n",
    "The first method of this we will be look at today is of Ridge Regression. \n",
    "\n",
    "### Ridge Regression\n",
    "For ridge regression we must first apply the least squares error that will give us the best line that minimizes all the errors for data points (like what we have done above). In training models for linear regression, we tend to use training and testing data and we overfit for the training data resulting in the large and high variance of the test data. For this, we may want to not use the best fit line for training data but include a bias or not the best fit for the testing data. This overall will result in a drop in the variance of our test data that will not only create better models for the testing data but for future predictions and models that the data has yet seen.\n",
    "\n",
    "For linear regression, the line minimizes the normal least squared residuals, but for Ridge Regression we minimize the least squared residuals + the $\\lambda$ * $slope^2$, resulting in this equation as seen:\n",
    "$$ \\text{R}(\\theta) = \\text{MSE}(\\theta) + \\lambda*  \\sum_{i = 1}^n \\theta_i^2$$\n",
    "\n",
    "In the following equation above, we can see that:\n",
    "- $\\theta$: The cost function or the bias value that should be added on to the eqaution\n",
    "- $\\lambda$: The hyperparameter that controls how much the $\\theta$ value is applied as a weight to our equation.\n",
    "\n",
    "The value of $\\lambda$, determines how much of a bias we will add to our model. If this value is large, our model then all our weights will be large and present a flat horizontal line that is close to just the mean of the given data. \n",
    "\n",
    "Note: In the use of Ridge Regression the value of of bias will not reach zero for our model. This will never be a horizontal line and will always be offest by a little. When we look at Lasso Regression this will be an impact. \n",
    "\n",
    "As a result, we change the produced model to have a less of an impact when data is added to our model reducing and minimizing our value of varaiance and bias of the testing data. \n",
    "____\n",
    "### Lasso Regression\n",
    "For lasso regression, we have the same concept from Ridge Regression but the formula features a change to how the extra bias is calculated. The following equation is shown to see the changes in lasso:\n",
    "\n",
    "$$ \\text{R}(\\theta) = \\text{MSE}(\\theta) + \\lambda*  \\sum_{i = 1}^n |\\theta_i|$$\n",
    "\n",
    "In the following equation above, we can see that:\n",
    "- $\\theta$: The cost function or the bias value that should be added on to the eqaution\n",
    "- $\\lambda$: The hyperparameter that controls how much the $\\theta$ value is applied as a weight to our equation.\n",
    "\n",
    "But what we see different is the application of the absolute value function that is added on to our $\\theta$ rather than a squared that of in Ridge. This will result in a similar regression line as ridge regression but it allows it to get the zero parameter that is listed. For instance, if we have n amount of perameters, in the process of lasso, the model will return a model with less coefficients removing features. \n",
    "\n",
    "With the use of these types of regression, we are able to work with large datasets with many features and removing them from our model compared to normal linear regression. \n",
    "\n",
    "\n",
    "\n",
    "___\n",
    "\n",
    "Below, we can apply these two functions to a dataset to see the produce models. \n",
    "\n",
    "Below, we have just a normal housing dataset that we have below. These are just houses around the United States with their listings. The dataset contains the following columns: \n",
    "\n",
    "* 'Avg. Area Income': Avg. Income of residents of the city house is located in.\n",
    "* 'Avg. Area House Age': Avg Age of Houses in same city\n",
    "* 'Avg. Area Number of Rooms': Avg Number of Rooms for Houses in same city\n",
    "* 'Avg. Area Number of Bedrooms': Avg Number of Bedrooms for Houses in same city\n",
    "* 'Area Population': Population of city house is located in\n",
    "* 'Price': Price that the house sold at\n",
    "* 'Address': Address for the house\n",
    "\n",
    "\n",
    "Today, we will use this dataset and three linear regression models to best produce a model that fits the dataset\n",
    "___"
   ]
  },
  {
   "cell_type": "code",
   "execution_count": 5,
   "metadata": {},
   "outputs": [],
   "source": [
    "#first we will import out packages needed for this part of the project, this includes regression models and metric valdation.\n",
    "from sklearn.linear_model import Ridge, Lasso \n",
    "import pandas as pd\n",
    "from sklearn.model_selection import train_test_split\n",
    "from sklearn import metrics"
   ]
  },
  {
   "cell_type": "code",
   "execution_count": 6,
   "metadata": {},
   "outputs": [
    {
     "data": {
      "text/html": [
       "<div>\n",
       "<style scoped>\n",
       "    .dataframe tbody tr th:only-of-type {\n",
       "        vertical-align: middle;\n",
       "    }\n",
       "\n",
       "    .dataframe tbody tr th {\n",
       "        vertical-align: top;\n",
       "    }\n",
       "\n",
       "    .dataframe thead th {\n",
       "        text-align: right;\n",
       "    }\n",
       "</style>\n",
       "<table border=\"1\" class=\"dataframe\">\n",
       "  <thead>\n",
       "    <tr style=\"text-align: right;\">\n",
       "      <th></th>\n",
       "      <th>Avg. Area Income</th>\n",
       "      <th>Avg. Area House Age</th>\n",
       "      <th>Avg. Area Number of Rooms</th>\n",
       "      <th>Avg. Area Number of Bedrooms</th>\n",
       "      <th>Area Population</th>\n",
       "      <th>Price</th>\n",
       "      <th>Address</th>\n",
       "    </tr>\n",
       "  </thead>\n",
       "  <tbody>\n",
       "    <tr>\n",
       "      <td>0</td>\n",
       "      <td>79545.458574</td>\n",
       "      <td>5.682861</td>\n",
       "      <td>7.009188</td>\n",
       "      <td>4.09</td>\n",
       "      <td>23086.800503</td>\n",
       "      <td>1.059034e+06</td>\n",
       "      <td>208 Michael Ferry Apt. 674\\nLaurabury, NE 3701...</td>\n",
       "    </tr>\n",
       "    <tr>\n",
       "      <td>1</td>\n",
       "      <td>79248.642455</td>\n",
       "      <td>6.002900</td>\n",
       "      <td>6.730821</td>\n",
       "      <td>3.09</td>\n",
       "      <td>40173.072174</td>\n",
       "      <td>1.505891e+06</td>\n",
       "      <td>188 Johnson Views Suite 079\\nLake Kathleen, CA...</td>\n",
       "    </tr>\n",
       "    <tr>\n",
       "      <td>2</td>\n",
       "      <td>61287.067179</td>\n",
       "      <td>5.865890</td>\n",
       "      <td>8.512727</td>\n",
       "      <td>5.13</td>\n",
       "      <td>36882.159400</td>\n",
       "      <td>1.058988e+06</td>\n",
       "      <td>9127 Elizabeth Stravenue\\nDanieltown, WI 06482...</td>\n",
       "    </tr>\n",
       "    <tr>\n",
       "      <td>3</td>\n",
       "      <td>63345.240046</td>\n",
       "      <td>7.188236</td>\n",
       "      <td>5.586729</td>\n",
       "      <td>3.26</td>\n",
       "      <td>34310.242831</td>\n",
       "      <td>1.260617e+06</td>\n",
       "      <td>USS Barnett\\nFPO AP 44820</td>\n",
       "    </tr>\n",
       "    <tr>\n",
       "      <td>4</td>\n",
       "      <td>59982.197226</td>\n",
       "      <td>5.040555</td>\n",
       "      <td>7.839388</td>\n",
       "      <td>4.23</td>\n",
       "      <td>26354.109472</td>\n",
       "      <td>6.309435e+05</td>\n",
       "      <td>USNS Raymond\\nFPO AE 09386</td>\n",
       "    </tr>\n",
       "    <tr>\n",
       "      <td>...</td>\n",
       "      <td>...</td>\n",
       "      <td>...</td>\n",
       "      <td>...</td>\n",
       "      <td>...</td>\n",
       "      <td>...</td>\n",
       "      <td>...</td>\n",
       "      <td>...</td>\n",
       "    </tr>\n",
       "    <tr>\n",
       "      <td>4995</td>\n",
       "      <td>60567.944140</td>\n",
       "      <td>7.830362</td>\n",
       "      <td>6.137356</td>\n",
       "      <td>3.46</td>\n",
       "      <td>22837.361035</td>\n",
       "      <td>1.060194e+06</td>\n",
       "      <td>USNS Williams\\nFPO AP 30153-7653</td>\n",
       "    </tr>\n",
       "    <tr>\n",
       "      <td>4996</td>\n",
       "      <td>78491.275435</td>\n",
       "      <td>6.999135</td>\n",
       "      <td>6.576763</td>\n",
       "      <td>4.02</td>\n",
       "      <td>25616.115489</td>\n",
       "      <td>1.482618e+06</td>\n",
       "      <td>PSC 9258, Box 8489\\nAPO AA 42991-3352</td>\n",
       "    </tr>\n",
       "    <tr>\n",
       "      <td>4997</td>\n",
       "      <td>63390.686886</td>\n",
       "      <td>7.250591</td>\n",
       "      <td>4.805081</td>\n",
       "      <td>2.13</td>\n",
       "      <td>33266.145490</td>\n",
       "      <td>1.030730e+06</td>\n",
       "      <td>4215 Tracy Garden Suite 076\\nJoshualand, VA 01...</td>\n",
       "    </tr>\n",
       "    <tr>\n",
       "      <td>4998</td>\n",
       "      <td>68001.331235</td>\n",
       "      <td>5.534388</td>\n",
       "      <td>7.130144</td>\n",
       "      <td>5.44</td>\n",
       "      <td>42625.620156</td>\n",
       "      <td>1.198657e+06</td>\n",
       "      <td>USS Wallace\\nFPO AE 73316</td>\n",
       "    </tr>\n",
       "    <tr>\n",
       "      <td>4999</td>\n",
       "      <td>65510.581804</td>\n",
       "      <td>5.992305</td>\n",
       "      <td>6.792336</td>\n",
       "      <td>4.07</td>\n",
       "      <td>46501.283803</td>\n",
       "      <td>1.298950e+06</td>\n",
       "      <td>37778 George Ridges Apt. 509\\nEast Holly, NV 2...</td>\n",
       "    </tr>\n",
       "  </tbody>\n",
       "</table>\n",
       "<p>5000 rows × 7 columns</p>\n",
       "</div>"
      ],
      "text/plain": [
       "      Avg. Area Income  Avg. Area House Age  Avg. Area Number of Rooms  \\\n",
       "0         79545.458574             5.682861                   7.009188   \n",
       "1         79248.642455             6.002900                   6.730821   \n",
       "2         61287.067179             5.865890                   8.512727   \n",
       "3         63345.240046             7.188236                   5.586729   \n",
       "4         59982.197226             5.040555                   7.839388   \n",
       "...                ...                  ...                        ...   \n",
       "4995      60567.944140             7.830362                   6.137356   \n",
       "4996      78491.275435             6.999135                   6.576763   \n",
       "4997      63390.686886             7.250591                   4.805081   \n",
       "4998      68001.331235             5.534388                   7.130144   \n",
       "4999      65510.581804             5.992305                   6.792336   \n",
       "\n",
       "      Avg. Area Number of Bedrooms  Area Population         Price  \\\n",
       "0                             4.09     23086.800503  1.059034e+06   \n",
       "1                             3.09     40173.072174  1.505891e+06   \n",
       "2                             5.13     36882.159400  1.058988e+06   \n",
       "3                             3.26     34310.242831  1.260617e+06   \n",
       "4                             4.23     26354.109472  6.309435e+05   \n",
       "...                            ...              ...           ...   \n",
       "4995                          3.46     22837.361035  1.060194e+06   \n",
       "4996                          4.02     25616.115489  1.482618e+06   \n",
       "4997                          2.13     33266.145490  1.030730e+06   \n",
       "4998                          5.44     42625.620156  1.198657e+06   \n",
       "4999                          4.07     46501.283803  1.298950e+06   \n",
       "\n",
       "                                                Address  \n",
       "0     208 Michael Ferry Apt. 674\\nLaurabury, NE 3701...  \n",
       "1     188 Johnson Views Suite 079\\nLake Kathleen, CA...  \n",
       "2     9127 Elizabeth Stravenue\\nDanieltown, WI 06482...  \n",
       "3                             USS Barnett\\nFPO AP 44820  \n",
       "4                            USNS Raymond\\nFPO AE 09386  \n",
       "...                                                 ...  \n",
       "4995                   USNS Williams\\nFPO AP 30153-7653  \n",
       "4996              PSC 9258, Box 8489\\nAPO AA 42991-3352  \n",
       "4997  4215 Tracy Garden Suite 076\\nJoshualand, VA 01...  \n",
       "4998                          USS Wallace\\nFPO AE 73316  \n",
       "4999  37778 George Ridges Apt. 509\\nEast Holly, NV 2...  \n",
       "\n",
       "[5000 rows x 7 columns]"
      ]
     },
     "execution_count": 6,
     "metadata": {},
     "output_type": "execute_result"
    }
   ],
   "source": [
    "#load the dataset in and select out the needed data for each the features and labels\n",
    "USAhousing = pd.read_csv(\"USA_Housing.csv\")\n",
    "X = USAhousing[['Avg. Area Income', 'Avg. Area House Age', 'Avg. Area Number of Rooms',\n",
    "               'Avg. Area Number of Bedrooms', 'Area Population']]\n",
    "y = USAhousing['Price']\n",
    "USAhousing"
   ]
  },
  {
   "cell_type": "markdown",
   "metadata": {},
   "source": [
    "___\n",
    "As we see in the dataframe above, we have 7 features with one being labels. For this model, we selected out labels to be the price. There is one feature that we can not use and that is of the Address as that is text that does not fit our model\n",
    "___"
   ]
  },
  {
   "cell_type": "code",
   "execution_count": 7,
   "metadata": {},
   "outputs": [],
   "source": [
    "X_train, X_test, y_train, y_test = train_test_split(X, y, test_size=0.30)"
   ]
  },
  {
   "cell_type": "markdown",
   "metadata": {},
   "source": [
    "___\n",
    "Below, we look at which model preforms the best at reducing the errors. here, we have the normal Linear regerssion (Multiple Linear regression), Ridge Regression and, Lasso Regression. Each one will take in the same data and we will look at the output errors of each in the MSE after. \n",
    "___"
   ]
  },
  {
   "cell_type": "code",
   "execution_count": 11,
   "metadata": {},
   "outputs": [],
   "source": [
    "#we set functions to our 3 models\n",
    "ridge_reg = Ridge(alpha= 1, solver= \"lsqr\")\n",
    "lasso_reg = Lasso(alpha = .1)\n",
    "linear_reg = LinearRegression()"
   ]
  },
  {
   "cell_type": "code",
   "execution_count": 12,
   "metadata": {},
   "outputs": [],
   "source": [
    "#fit all 3 models with the data and set the predict dataset to each. \n",
    "linear_reg.fit(X_train, y_train)\n",
    "ridge_reg.fit(X_train,y_train)\n",
    "lasso_reg.fit(X_train, y_train)\n",
    "\n",
    "lin = linear_reg.predict(X_test)\n",
    "rid = ridge_reg.predict(X_test)\n",
    "las = lasso_reg.predict(X_test)\n"
   ]
  },
  {
   "cell_type": "code",
   "execution_count": 13,
   "metadata": {},
   "outputs": [
    {
     "name": "stdout",
     "output_type": "stream",
     "text": [
      "MSE Linear: 10180300530.30656\n",
      "MSE Ridge: 52756463618.25394\n",
      "MSE Lasso: 10180301445.57885\n"
     ]
    }
   ],
   "source": [
    "#get the MSE for each model to see the results\n",
    "print('MSE Linear:', metrics.mean_squared_error(y_test, lin))\n",
    "print('MSE Ridge:', metrics.mean_squared_error(y_test, rid))\n",
    "print('MSE Lasso:', metrics.mean_squared_error(y_test, las))"
   ]
  },
  {
   "cell_type": "markdown",
   "metadata": {},
   "source": [
    "As we see above the errors of the data and each model. These are very large errors as it is the result of multiple features in our data. We can see that the Lasso preforms the best as it produces the lowest error. The linear function comes in second here as it is to near to the errors produced in Lasso. \n",
    "\n",
    "Although we can see the diffrence, each model preforms well in different conditions and that we must try many models to see which preforms the best and what we should use. \n",
    "___\n",
    "\n",
    "In conclusion, Regression can be handled and approched in many ways. Form using hand fucntions such as the normal equation to using packages, they each produce simlar results. When the data reaches and gets to the point, we should change our model to use something else such as polynomial regression or the use of Ridge and Lasso Regression. "
   ]
  }
 ],
 "metadata": {
  "kernelspec": {
   "display_name": "Python 3",
   "language": "python",
   "name": "python3"
  },
  "language_info": {
   "codemirror_mode": {
    "name": "ipython",
    "version": 3
   },
   "file_extension": ".py",
   "mimetype": "text/x-python",
   "name": "python",
   "nbconvert_exporter": "python",
   "pygments_lexer": "ipython3",
   "version": "3.7.4"
  }
 },
 "nbformat": 4,
 "nbformat_minor": 4
}
