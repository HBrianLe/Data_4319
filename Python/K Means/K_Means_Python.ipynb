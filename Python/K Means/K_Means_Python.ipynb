{
  "nbformat": 4,
  "nbformat_minor": 0,
  "metadata": {
    "colab": {
      "name": "K Means",
      "provenance": [],
      "collapsed_sections": [],
      "toc_visible": true
    },
    "kernelspec": {
      "name": "python3",
      "display_name": "Python 3"
    }
  },
  "cells": [
    {
      "cell_type": "code",
      "metadata": {
        "id": "tRGGnIykj7OH"
      },
      "source": [
        "import numpy as np\n",
        "import pandas as pd\n",
        "import matplotlib.pyplot as plt\n",
        "%matplotlib inline\n",
        "from sklearn.cluster import KMeans\n",
        "from sklearn.datasets import load_iris\n",
        "import seaborn as sea"
      ],
      "execution_count": null,
      "outputs": []
    },
    {
      "cell_type": "markdown",
      "metadata": {
        "id": "Oa8Bo_Y1lA3Q"
      },
      "source": [
        "## K Means Clustering with Python\n",
        "This notebook is on K - Means Clustering in Python. \n",
        "\n",
        "### Method Used\n",
        "K Means Clustering is an unsupervised learning algorithm that tries to cluster \n",
        "data based on their similarity. Unsupervised learning means that there is no outcome to be predicted, and the algorithm just tries to find patterns in the data. In k means clustering, we have the specify the number of clusters we want the data to be grouped into. The algorithm randomly assigns each observation to a cluster, and finds the centroid of each cluster. Then, the algorithm iterates through two steps: Reassign data points to the cluster whose centroid is closest. Calculate new centroid of each cluster. These two steps are repeated till the within cluster variation cannot be reduced any further. The within cluster variation is calculated as the sum of the euclidean distance between the data points and their respective cluster centroids."
      ]
    },
    {
      "cell_type": "code",
      "metadata": {
        "id": "Kr4rbP8glBRd"
      },
      "source": [
        "df  = pd.read_csv(\"/data.csv\")"
      ],
      "execution_count": null,
      "outputs": []
    },
    {
      "cell_type": "code",
      "metadata": {
        "colab": {
          "base_uri": "https://localhost:8080/",
          "height": 419
        },
        "id": "wL2cGmjLlGvl",
        "outputId": "99b628ca-064a-4992-d6f5-1e726e22a7be"
      },
      "source": [
        "df"
      ],
      "execution_count": null,
      "outputs": [
        {
          "output_type": "execute_result",
          "data": {
            "text/html": [
              "<div>\n",
              "<style scoped>\n",
              "    .dataframe tbody tr th:only-of-type {\n",
              "        vertical-align: middle;\n",
              "    }\n",
              "\n",
              "    .dataframe tbody tr th {\n",
              "        vertical-align: top;\n",
              "    }\n",
              "\n",
              "    .dataframe thead th {\n",
              "        text-align: right;\n",
              "    }\n",
              "</style>\n",
              "<table border=\"1\" class=\"dataframe\">\n",
              "  <thead>\n",
              "    <tr style=\"text-align: right;\">\n",
              "      <th></th>\n",
              "      <th>private</th>\n",
              "      <th>apps</th>\n",
              "      <th>accept</th>\n",
              "      <th>enroll</th>\n",
              "      <th>top10perc</th>\n",
              "      <th>top25perc</th>\n",
              "      <th>f_undergrad</th>\n",
              "      <th>p_undergrad</th>\n",
              "      <th>outstate</th>\n",
              "      <th>room_board</th>\n",
              "      <th>books</th>\n",
              "      <th>personal</th>\n",
              "      <th>phd</th>\n",
              "      <th>terminal</th>\n",
              "      <th>s_f_ratio</th>\n",
              "      <th>perc_alumni</th>\n",
              "      <th>expend</th>\n",
              "      <th>grad_rate</th>\n",
              "    </tr>\n",
              "  </thead>\n",
              "  <tbody>\n",
              "    <tr>\n",
              "      <th>0</th>\n",
              "      <td>Yes</td>\n",
              "      <td>1660</td>\n",
              "      <td>1232</td>\n",
              "      <td>721</td>\n",
              "      <td>23</td>\n",
              "      <td>52</td>\n",
              "      <td>2885</td>\n",
              "      <td>537</td>\n",
              "      <td>7440</td>\n",
              "      <td>3300</td>\n",
              "      <td>450</td>\n",
              "      <td>2200</td>\n",
              "      <td>70</td>\n",
              "      <td>78</td>\n",
              "      <td>18.1</td>\n",
              "      <td>12</td>\n",
              "      <td>7041</td>\n",
              "      <td>60</td>\n",
              "    </tr>\n",
              "    <tr>\n",
              "      <th>1</th>\n",
              "      <td>Yes</td>\n",
              "      <td>2186</td>\n",
              "      <td>1924</td>\n",
              "      <td>512</td>\n",
              "      <td>16</td>\n",
              "      <td>29</td>\n",
              "      <td>2683</td>\n",
              "      <td>1227</td>\n",
              "      <td>12280</td>\n",
              "      <td>6450</td>\n",
              "      <td>750</td>\n",
              "      <td>1500</td>\n",
              "      <td>29</td>\n",
              "      <td>30</td>\n",
              "      <td>12.2</td>\n",
              "      <td>16</td>\n",
              "      <td>10527</td>\n",
              "      <td>56</td>\n",
              "    </tr>\n",
              "    <tr>\n",
              "      <th>2</th>\n",
              "      <td>Yes</td>\n",
              "      <td>1428</td>\n",
              "      <td>1097</td>\n",
              "      <td>336</td>\n",
              "      <td>22</td>\n",
              "      <td>50</td>\n",
              "      <td>1036</td>\n",
              "      <td>99</td>\n",
              "      <td>11250</td>\n",
              "      <td>3750</td>\n",
              "      <td>400</td>\n",
              "      <td>1165</td>\n",
              "      <td>53</td>\n",
              "      <td>66</td>\n",
              "      <td>12.9</td>\n",
              "      <td>30</td>\n",
              "      <td>8735</td>\n",
              "      <td>54</td>\n",
              "    </tr>\n",
              "    <tr>\n",
              "      <th>3</th>\n",
              "      <td>Yes</td>\n",
              "      <td>417</td>\n",
              "      <td>349</td>\n",
              "      <td>137</td>\n",
              "      <td>60</td>\n",
              "      <td>89</td>\n",
              "      <td>510</td>\n",
              "      <td>63</td>\n",
              "      <td>12960</td>\n",
              "      <td>5450</td>\n",
              "      <td>450</td>\n",
              "      <td>875</td>\n",
              "      <td>92</td>\n",
              "      <td>97</td>\n",
              "      <td>7.7</td>\n",
              "      <td>37</td>\n",
              "      <td>19016</td>\n",
              "      <td>59</td>\n",
              "    </tr>\n",
              "    <tr>\n",
              "      <th>4</th>\n",
              "      <td>Yes</td>\n",
              "      <td>193</td>\n",
              "      <td>146</td>\n",
              "      <td>55</td>\n",
              "      <td>16</td>\n",
              "      <td>44</td>\n",
              "      <td>249</td>\n",
              "      <td>869</td>\n",
              "      <td>7560</td>\n",
              "      <td>4120</td>\n",
              "      <td>800</td>\n",
              "      <td>1500</td>\n",
              "      <td>76</td>\n",
              "      <td>72</td>\n",
              "      <td>11.9</td>\n",
              "      <td>2</td>\n",
              "      <td>10922</td>\n",
              "      <td>15</td>\n",
              "    </tr>\n",
              "    <tr>\n",
              "      <th>...</th>\n",
              "      <td>...</td>\n",
              "      <td>...</td>\n",
              "      <td>...</td>\n",
              "      <td>...</td>\n",
              "      <td>...</td>\n",
              "      <td>...</td>\n",
              "      <td>...</td>\n",
              "      <td>...</td>\n",
              "      <td>...</td>\n",
              "      <td>...</td>\n",
              "      <td>...</td>\n",
              "      <td>...</td>\n",
              "      <td>...</td>\n",
              "      <td>...</td>\n",
              "      <td>...</td>\n",
              "      <td>...</td>\n",
              "      <td>...</td>\n",
              "      <td>...</td>\n",
              "    </tr>\n",
              "    <tr>\n",
              "      <th>772</th>\n",
              "      <td>No</td>\n",
              "      <td>2197</td>\n",
              "      <td>1515</td>\n",
              "      <td>543</td>\n",
              "      <td>4</td>\n",
              "      <td>26</td>\n",
              "      <td>3089</td>\n",
              "      <td>2029</td>\n",
              "      <td>6797</td>\n",
              "      <td>3900</td>\n",
              "      <td>500</td>\n",
              "      <td>1200</td>\n",
              "      <td>60</td>\n",
              "      <td>60</td>\n",
              "      <td>21.0</td>\n",
              "      <td>14</td>\n",
              "      <td>4469</td>\n",
              "      <td>40</td>\n",
              "    </tr>\n",
              "    <tr>\n",
              "      <th>773</th>\n",
              "      <td>Yes</td>\n",
              "      <td>1959</td>\n",
              "      <td>1805</td>\n",
              "      <td>695</td>\n",
              "      <td>24</td>\n",
              "      <td>47</td>\n",
              "      <td>2849</td>\n",
              "      <td>1107</td>\n",
              "      <td>11520</td>\n",
              "      <td>4960</td>\n",
              "      <td>600</td>\n",
              "      <td>1250</td>\n",
              "      <td>73</td>\n",
              "      <td>75</td>\n",
              "      <td>13.3</td>\n",
              "      <td>31</td>\n",
              "      <td>9189</td>\n",
              "      <td>83</td>\n",
              "    </tr>\n",
              "    <tr>\n",
              "      <th>774</th>\n",
              "      <td>Yes</td>\n",
              "      <td>2097</td>\n",
              "      <td>1915</td>\n",
              "      <td>695</td>\n",
              "      <td>34</td>\n",
              "      <td>61</td>\n",
              "      <td>2793</td>\n",
              "      <td>166</td>\n",
              "      <td>6900</td>\n",
              "      <td>4200</td>\n",
              "      <td>617</td>\n",
              "      <td>781</td>\n",
              "      <td>67</td>\n",
              "      <td>75</td>\n",
              "      <td>14.4</td>\n",
              "      <td>20</td>\n",
              "      <td>8323</td>\n",
              "      <td>49</td>\n",
              "    </tr>\n",
              "    <tr>\n",
              "      <th>775</th>\n",
              "      <td>Yes</td>\n",
              "      <td>10705</td>\n",
              "      <td>2453</td>\n",
              "      <td>1317</td>\n",
              "      <td>95</td>\n",
              "      <td>99</td>\n",
              "      <td>5217</td>\n",
              "      <td>83</td>\n",
              "      <td>19840</td>\n",
              "      <td>6510</td>\n",
              "      <td>630</td>\n",
              "      <td>2115</td>\n",
              "      <td>96</td>\n",
              "      <td>96</td>\n",
              "      <td>5.8</td>\n",
              "      <td>49</td>\n",
              "      <td>40386</td>\n",
              "      <td>99</td>\n",
              "    </tr>\n",
              "    <tr>\n",
              "      <th>776</th>\n",
              "      <td>Yes</td>\n",
              "      <td>2989</td>\n",
              "      <td>1855</td>\n",
              "      <td>691</td>\n",
              "      <td>28</td>\n",
              "      <td>63</td>\n",
              "      <td>2988</td>\n",
              "      <td>1726</td>\n",
              "      <td>4990</td>\n",
              "      <td>3560</td>\n",
              "      <td>500</td>\n",
              "      <td>1250</td>\n",
              "      <td>75</td>\n",
              "      <td>75</td>\n",
              "      <td>18.1</td>\n",
              "      <td>28</td>\n",
              "      <td>4509</td>\n",
              "      <td>99</td>\n",
              "    </tr>\n",
              "  </tbody>\n",
              "</table>\n",
              "<p>777 rows × 18 columns</p>\n",
              "</div>"
            ],
            "text/plain": [
              "    private   apps  accept  enroll  ...  s_f_ratio  perc_alumni  expend  grad_rate\n",
              "0       Yes   1660    1232     721  ...       18.1           12    7041         60\n",
              "1       Yes   2186    1924     512  ...       12.2           16   10527         56\n",
              "2       Yes   1428    1097     336  ...       12.9           30    8735         54\n",
              "3       Yes    417     349     137  ...        7.7           37   19016         59\n",
              "4       Yes    193     146      55  ...       11.9            2   10922         15\n",
              "..      ...    ...     ...     ...  ...        ...          ...     ...        ...\n",
              "772      No   2197    1515     543  ...       21.0           14    4469         40\n",
              "773     Yes   1959    1805     695  ...       13.3           31    9189         83\n",
              "774     Yes   2097    1915     695  ...       14.4           20    8323         49\n",
              "775     Yes  10705    2453    1317  ...        5.8           49   40386         99\n",
              "776     Yes   2989    1855     691  ...       18.1           28    4509         99\n",
              "\n",
              "[777 rows x 18 columns]"
            ]
          },
          "metadata": {
            "tags": []
          },
          "execution_count": 23
        }
      ]
    },
    {
      "cell_type": "markdown",
      "metadata": {
        "id": "Xm8_URnCABOG"
      },
      "source": [
        "### The Data\n",
        "This data does conatain labels but we will be removing them as we build our model. What this label is used for is for us to measure the preformance of our model as we build it. Note that for a normal k - means dataset, we will not have labels and the model will be on its' own for building and classifying clusters. \n",
        "___\n",
        "\n",
        "We will use a data frame with 777 observations on the following 18 variables.\n",
        "\n",
        "##### Variables\n",
        "- Private - A factor with levels No and Yes indicating private or public university\n",
        "- Apps - Number of applications received\n",
        "- Accept - Number of applications accepted\n",
        "- Enroll - Number of new students enrolled\n",
        "- Top10perc - Pct. new students from top 10% of H.S. class\n",
        "- Top25perc - Pct. new students from top 25% of H.S. class\n",
        "- F.Undergrad - Number of fulltime undergraduates\n",
        "- P.Undergrad - Number of parttime undergraduates\n",
        "- Outstate - Out-of-state tuition\n",
        "- Room.Board - Room and board costs\n",
        "- Books - Estimated book costs\n",
        "- Personal - Estimated personal spending\n",
        "- PhD - Pct. of faculty with Ph.D.’s\n",
        "- Terminal - Pct. of faculty with terminal degree\n",
        "- S.F.Ratio - Student/faculty ratio\n",
        "- perc.alumni - Pct. alumni who donate\n",
        "- Expend - Instructional expenditure per student\n",
        "- Grad.Rate - Graduation rate\n"
      ]
    },
    {
      "cell_type": "markdown",
      "metadata": {
        "id": "a5I9acTOAAvv"
      },
      "source": [
        "___\n",
        "Below, we look at some data analysis on the dataset to see the relationship between the features in the dataset. We will be using many plots and feataures to find a good relationship\n",
        "___"
      ]
    },
    {
      "cell_type": "code",
      "metadata": {
        "id": "aUog3NmQmorY",
        "colab": {
          "base_uri": "https://localhost:8080/",
          "height": 455
        },
        "outputId": "79e212c3-646b-414c-caa6-a6f3eb34357b"
      },
      "source": [
        "#we look at the relationship between the cost of the board and room vs the graduation rate between the private and public universities \n",
        "sea.set_style(\"darkgrid\")\n",
        "sea.lmplot(\"room_board\", \"grad_rate\", data = data, hue= \"private\")"
      ],
      "execution_count": null,
      "outputs": [
        {
          "output_type": "stream",
          "text": [
            "/usr/local/lib/python3.6/dist-packages/seaborn/_decorators.py:43: FutureWarning: Pass the following variables as keyword args: x, y. From version 0.12, the only valid positional argument will be `data`, and passing other arguments without an explicit keyword will result in an error or misinterpretation.\n",
            "  FutureWarning\n"
          ],
          "name": "stderr"
        },
        {
          "output_type": "execute_result",
          "data": {
            "text/plain": [
              "<seaborn.axisgrid.FacetGrid at 0x7fd21a4e40f0>"
            ]
          },
          "metadata": {
            "tags": []
          },
          "execution_count": 22
        },
        {
          "output_type": "display_data",
          "data": {
            "image/png": "[encoded data removed]",
            "text/plain": [
              "<Figure size 412x360 with 1 Axes>"
            ]
          },
          "metadata": {
            "tags": []
          }
        }
      ]
    },
    {
      "cell_type": "markdown",
      "metadata": {
        "id": "vNH6zlHwDcIZ"
      },
      "source": [
        "What it looks like above is that the public universities have a lower graduation rate and cost for room and board. This can be seen as true as cost for private school is more than of public universities. \n",
        "___"
      ]
    },
    {
      "cell_type": "code",
      "metadata": {
        "colab": {
          "base_uri": "https://localhost:8080/",
          "height": 455
        },
        "id": "2u1ZHCtroEWw",
        "outputId": "2e351c81-7b2a-42d2-d903-4582a8a84fdd"
      },
      "source": [
        "sea.set_style(\"darkgrid\")\n",
        "sea.lmplot(\"s_f_ratio\", \"accept\", data = data, hue= \"private\")"
      ],
      "execution_count": null,
      "outputs": [
        {
          "output_type": "stream",
          "text": [
            "/usr/local/lib/python3.6/dist-packages/seaborn/_decorators.py:43: FutureWarning: Pass the following variables as keyword args: x, y. From version 0.12, the only valid positional argument will be `data`, and passing other arguments without an explicit keyword will result in an error or misinterpretation.\n",
            "  FutureWarning\n"
          ],
          "name": "stderr"
        },
        {
          "output_type": "execute_result",
          "data": {
            "text/plain": [
              "<seaborn.axisgrid.FacetGrid at 0x7fd218686e80>"
            ]
          },
          "metadata": {
            "tags": []
          },
          "execution_count": 28
        },
        {
          "output_type": "display_data",
          "data": {
            "image/png": "[encoded data removed]",
            "text/plain": [
              "<Figure size 412x360 with 1 Axes>"
            ]
          },
          "metadata": {
            "tags": []
          }
        }
      ]
    },
    {
      "cell_type": "markdown",
      "metadata": {
        "id": "PU7OMmp1EjeW"
      },
      "source": [
        "In the plot above, we can see that there is a diffrence between the two types of schools. The schools of private have a much lower student faculty ratio than of public universities. There is more applicants to public universities than of private. With this, we can use this to better set classification points for our data. \n",
        "___\n",
        "\n",
        "### Cluster Creations "
      ]
    },
    {
      "cell_type": "code",
      "metadata": {
        "id": "O_PsnXnGoK9_"
      },
      "source": [
        "kmeans = KMeans(n_clusters= 2) \n",
        "#we know of two clusters of private and public universities"
      ],
      "execution_count": null,
      "outputs": []
    },
    {
      "cell_type": "markdown",
      "metadata": {
        "id": "eoynbiNQJkOL"
      },
      "source": [
        "___\n",
        "Above we load in the sklearn algorithm with the amount of clusters we have. Normally, we would first try the elbow method to find the correct or approprate number of clusters but in this case, we will not since we know there is only two. \n",
        "\n",
        "Below, we fit our data into the variable. For this we will need to drop a column that was our labels. We used this for looking at the data beforehand but will remove this for the use of kmeans and unsuperivsed learning. \n",
        "___"
      ]
    },
    {
      "cell_type": "code",
      "metadata": {
        "colab": {
          "base_uri": "https://localhost:8080/"
        },
        "id": "LdyvFBE6_bfK",
        "outputId": "e1ea1628-4919-4ab7-af4f-b99d5fbc7d83"
      },
      "source": [
        "kmeans.fit(df.drop(\"private\", axis= 1))"
      ],
      "execution_count": null,
      "outputs": [
        {
          "output_type": "execute_result",
          "data": {
            "text/plain": [
              "KMeans(algorithm='auto', copy_x=True, init='k-means++', max_iter=300,\n",
              "       n_clusters=2, n_init=10, n_jobs=None, precompute_distances='auto',\n",
              "       random_state=None, tol=0.0001, verbose=0)"
            ]
          },
          "metadata": {
            "tags": []
          },
          "execution_count": 30
        }
      ]
    },
    {
      "cell_type": "code",
      "metadata": {
        "colab": {
          "base_uri": "https://localhost:8080/"
        },
        "id": "iudSRxzy_hqd",
        "outputId": "42f44b21-2964-4bc1-9993-29c2fbc08f39"
      },
      "source": [
        "#look at the cluster corrdinates.\n",
        "#this is in multi dimentions and we can not classify this this graph format.\n",
        "kmeans.cluster_centers_"
      ],
      "execution_count": null,
      "outputs": [
        {
          "output_type": "execute_result",
          "data": {
            "text/plain": [
              "array([[1.03631389e+04, 6.55089815e+03, 2.56972222e+03, 4.14907407e+01,\n",
              "        7.02037037e+01, 1.30619352e+04, 2.46486111e+03, 1.07191759e+04,\n",
              "        4.64347222e+03, 5.95212963e+02, 1.71420370e+03, 8.63981481e+01,\n",
              "        9.13333333e+01, 1.40277778e+01, 2.00740741e+01, 1.41705000e+04,\n",
              "        6.75925926e+01],\n",
              "       [1.81323468e+03, 1.28716592e+03, 4.91044843e+02, 2.53094170e+01,\n",
              "        5.34708520e+01, 2.18854858e+03, 5.95458894e+02, 1.03957085e+04,\n",
              "        4.31136472e+03, 5.41982063e+02, 1.28033632e+03, 7.04424514e+01,\n",
              "        7.78251121e+01, 1.40997010e+01, 2.31748879e+01, 8.93204634e+03,\n",
              "        6.51195815e+01]])"
            ]
          },
          "metadata": {
            "tags": []
          },
          "execution_count": 31
        }
      ]
    },
    {
      "cell_type": "code",
      "metadata": {
        "id": "XNY1NmkZF5nh"
      },
      "source": [
        "#Below, we create a function to convert the data of the private classifcation to interger inorder to us preformance measures on this model.\n",
        "def schooltype(cluster):\n",
        "  return 1 if cluster == \"Yes\" else 0"
      ],
      "execution_count": null,
      "outputs": []
    },
    {
      "cell_type": "code",
      "metadata": {
        "id": "ePDDMri9G9JJ"
      },
      "source": [
        "#create a column data that converts this function\n",
        "data[\"Type\"] = data[\"private\"].apply(schooltype)"
      ],
      "execution_count": null,
      "outputs": []
    },
    {
      "cell_type": "code",
      "metadata": {
        "colab": {
          "base_uri": "https://localhost:8080/",
          "height": 419
        },
        "id": "sTjH3gvAHbf6",
        "outputId": "ce969ed8-a003-46b1-c69a-bcdd60a7a773"
      },
      "source": [
        "data[[\"Type\"]]"
      ],
      "execution_count": null,
      "outputs": [
        {
          "output_type": "execute_result",
          "data": {
            "text/html": [
              "<div>\n",
              "<style scoped>\n",
              "    .dataframe tbody tr th:only-of-type {\n",
              "        vertical-align: middle;\n",
              "    }\n",
              "\n",
              "    .dataframe tbody tr th {\n",
              "        vertical-align: top;\n",
              "    }\n",
              "\n",
              "    .dataframe thead th {\n",
              "        text-align: right;\n",
              "    }\n",
              "</style>\n",
              "<table border=\"1\" class=\"dataframe\">\n",
              "  <thead>\n",
              "    <tr style=\"text-align: right;\">\n",
              "      <th></th>\n",
              "      <th>Type</th>\n",
              "    </tr>\n",
              "  </thead>\n",
              "  <tbody>\n",
              "    <tr>\n",
              "      <th>0</th>\n",
              "      <td>1</td>\n",
              "    </tr>\n",
              "    <tr>\n",
              "      <th>1</th>\n",
              "      <td>1</td>\n",
              "    </tr>\n",
              "    <tr>\n",
              "      <th>2</th>\n",
              "      <td>1</td>\n",
              "    </tr>\n",
              "    <tr>\n",
              "      <th>3</th>\n",
              "      <td>1</td>\n",
              "    </tr>\n",
              "    <tr>\n",
              "      <th>4</th>\n",
              "      <td>1</td>\n",
              "    </tr>\n",
              "    <tr>\n",
              "      <th>...</th>\n",
              "      <td>...</td>\n",
              "    </tr>\n",
              "    <tr>\n",
              "      <th>772</th>\n",
              "      <td>0</td>\n",
              "    </tr>\n",
              "    <tr>\n",
              "      <th>773</th>\n",
              "      <td>1</td>\n",
              "    </tr>\n",
              "    <tr>\n",
              "      <th>774</th>\n",
              "      <td>1</td>\n",
              "    </tr>\n",
              "    <tr>\n",
              "      <th>775</th>\n",
              "      <td>1</td>\n",
              "    </tr>\n",
              "    <tr>\n",
              "      <th>776</th>\n",
              "      <td>1</td>\n",
              "    </tr>\n",
              "  </tbody>\n",
              "</table>\n",
              "<p>777 rows × 1 columns</p>\n",
              "</div>"
            ],
            "text/plain": [
              "     Type\n",
              "0       1\n",
              "1       1\n",
              "2       1\n",
              "3       1\n",
              "4       1\n",
              "..    ...\n",
              "772     0\n",
              "773     1\n",
              "774     1\n",
              "775     1\n",
              "776     1\n",
              "\n",
              "[777 rows x 1 columns]"
            ]
          },
          "metadata": {
            "tags": []
          },
          "execution_count": 51
        }
      ]
    },
    {
      "cell_type": "code",
      "metadata": {
        "colab": {
          "base_uri": "https://localhost:8080/"
        },
        "id": "DO1QChxrHd-a",
        "outputId": "bcf4ef03-53f8-4de3-c04f-e5942487b523"
      },
      "source": [
        "from sklearn.metrics import confusion_matrix, classification_report\n",
        "print(confusion_matrix(data[\"Type\"] , kmeans.labels_))\n",
        "print(classification_report(data[\"Type\"], kmeans.labels_))"
      ],
      "execution_count": null,
      "outputs": [
        {
          "output_type": "stream",
          "text": [
            "[[ 74 138]\n",
            " [ 34 531]]\n",
            "              precision    recall  f1-score   support\n",
            "\n",
            "           0       0.69      0.35      0.46       212\n",
            "           1       0.79      0.94      0.86       565\n",
            "\n",
            "    accuracy                           0.78       777\n",
            "   macro avg       0.74      0.64      0.66       777\n",
            "weighted avg       0.76      0.78      0.75       777\n",
            "\n"
          ],
          "name": "stdout"
        }
      ]
    },
    {
      "cell_type": "markdown",
      "metadata": {
        "id": "4XsESxC8sG76"
      },
      "source": [
        "____\n",
        "In this preformance measures, we can see the use of the confusion matrix and classification report. In the confusion matrix, we can see that from the output the result is that the model correctly identified most of the data as over 500 points of data was correctly identified in our model. We can also see that there were about 180 total misclassifications in our model. Although this is a lot, the result is that our model can correctly identify most of the points of data given without any identifcation of any labels. The model was able to build classifications on many of the given features alone. \n",
        "\n",
        "Although we are able to make this matrix, in using K-means algorithm we usually would not be able to make this because we would not have any labels. But we did this today to see the overall preformance of the model as a result after. "
      ]
    }
  ]
}